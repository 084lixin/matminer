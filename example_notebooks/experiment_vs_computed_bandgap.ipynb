version https://git-lfs.github.com/spec/v1
oid sha256:d4d2845b8d8959f1d09e4c46b464f816137a130f2727d52bca4282fb047a499a
size 1764147
