{
 "cells": [
  {
   "cell_type": "markdown",
   "metadata": {},
   "source": [
    "<b>Example use of VolumePredictor: </b> *Predict volume of Si*"
   ]
  },
  {
   "cell_type": "code",
   "execution_count": 1,
   "metadata": {
    "collapsed": false
   },
   "outputs": [
    {
     "name": "stdout",
     "output_type": "stream",
     "text": [
      "Initial vol: 40.0447946443\n",
      "Predicted vol: 32.7873368881\n"
     ]
    }
   ],
   "source": [
    "from matminer.learners.volume_prediction import VolumePredictor\n",
    "from pymatgen.util.testing import PymatgenTest\n",
    "\n",
    "s = PymatgenTest.get_structure(\"Si\")\n",
    "pred_vol = VolumePredictor().predict(s)\n",
    "print(\"Initial vol: {}\".format(s.volume))\n",
    "print(\"Predicted vol: {}\".format(pred_vol))"
   ]
  }
 ],
 "metadata": {
  "kernelspec": {
   "display_name": "Python 2",
   "language": "python",
   "name": "python2"
  },
  "language_info": {
   "codemirror_mode": {
    "name": "ipython",
    "version": 2
   },
   "file_extension": ".py",
   "mimetype": "text/x-python",
   "name": "python",
   "nbconvert_exporter": "python",
   "pygments_lexer": "ipython2",
   "version": "2.7.10"
  }
 },
 "nbformat": 4,
 "nbformat_minor": 0
}
