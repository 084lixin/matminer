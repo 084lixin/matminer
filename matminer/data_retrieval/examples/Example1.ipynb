{
 "cells": [
  {
   "cell_type": "markdown",
   "metadata": {},
   "source": [
    "This notebook demonstrates use of the code 'from_Citrine.py' in retrieving data from various datasets collected by Citrine Informatics at http://citrination.com/, and output it in the form of a Pandas dataframe. In this example, we query the Citrine API to retrieve all the data on the thermoelectric material PbTe contributed by the 'TE Design Lab' (http://www.tedesignlab.org/) to Citrine. "
   ]
  },
  {
   "cell_type": "code",
   "execution_count": 1,
   "metadata": {
    "collapsed": true
   },
   "outputs": [],
   "source": [
    "from matminer.data_retrieval.from_Citrine import CitrineDataRetrieval"
   ]
  },
  {
   "cell_type": "code",
   "execution_count": 2,
   "metadata": {
    "collapsed": true
   },
   "outputs": [],
   "source": [
    "api_key = None     # Set your Citrine API key here. If set as an environment variable 'CITRINE_KEY', set it to 'None'"
   ]
  },
  {
   "cell_type": "markdown",
   "metadata": {},
   "source": [
    "Create an adapter to the Citrine Database."
   ]
  },
  {
   "cell_type": "code",
   "execution_count": 3,
   "metadata": {
    "collapsed": true
   },
   "outputs": [],
   "source": [
    "c = CitrineDataRetrieval(api_key)"
   ]
  },
  {
   "cell_type": "markdown",
   "metadata": {},
   "source": [
    "Retrieve data that is contributed by \"TE Design Lab\" for all samples with a chemical formula of \"PbTe\" and convert the search results into a Pandas dataframe. "
   ]
  },
  {
   "cell_type": "code",
   "execution_count": 4,
   "metadata": {
    "collapsed": false
   },
   "outputs": [
    {
     "name": "stderr",
     "output_type": "stream",
     "text": []
    },
    {
     "data": {
      "text/html": [
       "<div>\n",
       "<table border=\"1\" class=\"dataframe\">\n",
       "  <thead>\n",
       "    <tr style=\"text-align: right;\">\n",
       "      <th></th>\n",
       "      <th>data_set_id</th>\n",
       "      <th>material.chemicalFormula</th>\n",
       "      <th>material.condition</th>\n",
       "      <th>material.dataType</th>\n",
       "      <th>reference</th>\n",
       "      <th>Band degeneracy (N$_b$ (CB))</th>\n",
       "      <th>Band degeneracy (N$_b$ (VB))</th>\n",
       "      <th>Band effective mass (m$^{*}_{band}$ (m$_e$)-CB)</th>\n",
       "      <th>Band effective mass (m$^{*}_{band}$ (m$_e$)-VB)</th>\n",
       "      <th>Band gap</th>\n",
       "      <th>...</th>\n",
       "      <th>Density of states effective mass (m$^{*}_{DOS}$ (m$_e$)-VB)</th>\n",
       "      <th>Electron mobility ($\\mu$$_e$)</th>\n",
       "      <th>Hole mobility ($\\mu$$_h$)</th>\n",
       "      <th>Lattice thermal conductivity, acoustic ($\\kappa$$_{L, acoustic}$)</th>\n",
       "      <th>Lattice thermal conductivity, optical ($\\kappa$$_{L, optical}$)</th>\n",
       "      <th>Material-dependent parameter $\\beta$$_{SE}$ (n-type)</th>\n",
       "      <th>Material-dependent parameter $\\beta$$_{SE}$ (p-type)</th>\n",
       "      <th>Total lattice thermal conductivity ($\\kappa$$_{L, total}$)</th>\n",
       "      <th>Volume</th>\n",
       "      <th>property.units</th>\n",
       "    </tr>\n",
       "    <tr>\n",
       "      <th>sample</th>\n",
       "      <th></th>\n",
       "      <th></th>\n",
       "      <th></th>\n",
       "      <th></th>\n",
       "      <th></th>\n",
       "      <th></th>\n",
       "      <th></th>\n",
       "      <th></th>\n",
       "      <th></th>\n",
       "      <th></th>\n",
       "      <th></th>\n",
       "      <th></th>\n",
       "      <th></th>\n",
       "      <th></th>\n",
       "      <th></th>\n",
       "      <th></th>\n",
       "      <th></th>\n",
       "      <th></th>\n",
       "      <th></th>\n",
       "      <th></th>\n",
       "      <th></th>\n",
       "    </tr>\n",
       "  </thead>\n",
       "  <tbody>\n",
       "    <tr>\n",
       "      <th>1</th>\n",
       "      <td>1837</td>\n",
       "      <td>Pb1Te1</td>\n",
       "      <td>[{u'scalar': [{u'value': u'648608'}], u'name':...</td>\n",
       "      <td>Computational</td>\n",
       "      <td>[{u'url': u'http://dx.doi.org/10.1039/C4EE0315...</td>\n",
       "      <td>4.0</td>\n",
       "      <td>4.0</td>\n",
       "      <td>0.067</td>\n",
       "      <td>0.084</td>\n",
       "      <td>7.89</td>\n",
       "      <td>...</td>\n",
       "      <td>0.213</td>\n",
       "      <td>265.8</td>\n",
       "      <td>188.21</td>\n",
       "      <td>5.98</td>\n",
       "      <td>0.11</td>\n",
       "      <td>265.8</td>\n",
       "      <td>188.21</td>\n",
       "      <td>6.09</td>\n",
       "      <td>70.45</td>\n",
       "      <td>{u'Band effective mass (m$^{*}_{band}$ (m$_e$)...</td>\n",
       "    </tr>\n",
       "  </tbody>\n",
       "</table>\n",
       "<p>1 rows × 23 columns</p>\n",
       "</div>"
      ],
      "text/plain": [
       "        data_set_id material.chemicalFormula                                 material.condition material.dataType                                          reference Band degeneracy (N$_b$ (CB)) Band degeneracy (N$_b$ (VB)) Band effective mass (m$^{*}_{band}$ (m$_e$)-CB) Band effective mass (m$^{*}_{band}$ (m$_e$)-VB) Band gap                        ...                         Density of states effective mass (m$^{*}_{DOS}$ (m$_e$)-VB) Electron mobility ($\\mu$$_e$) Hole mobility ($\\mu$$_h$) Lattice thermal conductivity, acoustic ($\\kappa$$_{L, acoustic}$) Lattice thermal conductivity, optical ($\\kappa$$_{L, optical}$) Material-dependent parameter $\\beta$$_{SE}$ (n-type) Material-dependent parameter $\\beta$$_{SE}$ (p-type) Total lattice thermal conductivity ($\\kappa$$_{L, total}$) Volume                                     property.units\n",
       "sample                                                                                                                                                                                                                                                                                                                                                         ...                                                                                                                                                                                                                                                                                                                                                                                                                                                                                                             \n",
       "1              1837                   Pb1Te1  [{u'scalar': [{u'value': u'648608'}], u'name':...     Computational  [{u'url': u'http://dx.doi.org/10.1039/C4EE0315...                          4.0                          4.0                                           0.067                                           0.084     7.89                        ...                                                                      0.213                                  265.8                    188.21                                               5.98                                                              0.11                                                           265.8                                               188.21                                                 6.09          70.45  {u'Band effective mass (m$^{*}_{band}$ (m$_e$)...\n",
       "\n",
       "[1 rows x 23 columns]"
      ]
     },
     "execution_count": 4,
     "metadata": {},
     "output_type": "execute_result"
    }
   ],
   "source": [
    "c.get_dataframe(contributor='TE Design Lab', formula='PbTe')"
   ]
  },
  {
   "cell_type": "markdown",
   "metadata": {},
   "source": [
    "In the dataframe above, the above query results in one sample/hit from the Citrine API with 17 properties."
   ]
  }
 ],
 "metadata": {
  "celltoolbar": "Raw Cell Format",
  "kernelspec": {
   "display_name": "Python 2",
   "language": "python",
   "name": "python2"
  },
  "language_info": {
   "codemirror_mode": {
    "name": "ipython",
    "version": 2
   },
   "file_extension": ".py",
   "mimetype": "text/x-python",
   "name": "python",
   "nbconvert_exporter": "python",
   "pygments_lexer": "ipython2",
   "version": "2.7.10"
  }
 },
 "nbformat": 4,
 "nbformat_minor": 0
}
